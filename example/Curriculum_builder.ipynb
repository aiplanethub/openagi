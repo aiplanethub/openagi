{
 "cells": [
  {
   "cell_type": "code",
   "execution_count": 1,
   "metadata": {},
   "outputs": [
    {
     "name": "stderr",
     "output_type": "stream",
     "text": [
      "/Library/Frameworks/Python.framework/Versions/3.11/lib/python3.11/site-packages/tqdm/auto.py:21: TqdmWarning: IProgress not found. Please update jupyter and ipywidgets. See https://ipywidgets.readthedocs.io/en/stable/user_install.html\n",
      "  from .autonotebook import tqdm as notebook_tqdm\n"
     ]
    }
   ],
   "source": [
    "import os\n",
    "\n",
    "from openagi.agent import Admin\n",
    "from openagi.memory import Memory\n",
    "from openagi.worker import Worker\n",
    "from openagi.llms.gemini import GeminiModel\n",
    "from openagi.planner.task_decomposer import TaskPlanner\n",
    "from openagi.actions.tools.serp_search import GoogleSerpAPISearch\n",
    "\n",
    "from IPython.display import display, Markdown"
   ]
  },
  {
   "cell_type": "code",
   "execution_count": 2,
   "metadata": {},
   "outputs": [],
   "source": [
    "# Set environment variables if needed\n",
    "\n",
    "os.environ['GOOGLE_API_KEY'] = \"YOUR_GOOGLE_API_KEY\"\n",
    "os.environ['GOOGLE_SERP_API_KEY'] = \"YOUR_GOOGLE_SERP_API_KEY\"\n",
    "os.environ['Gemini_MODEL'] = \"gemini-1.5-flash\"\n",
    "os.environ['Gemini_TEMP'] = \"0.5\""
   ]
  },
  {
   "cell_type": "code",
   "execution_count": 3,
   "metadata": {},
   "outputs": [],
   "source": [
    "# Load LLM configuration and create model\n",
    "\n",
    "config = GeminiModel.load_from_env_config()\n",
    "llm = GeminiModel(config=config)"
   ]
  },
  {
   "cell_type": "code",
   "execution_count": 4,
   "metadata": {},
   "outputs": [],
   "source": [
    "# Create workers (agents)\n",
    "\n",
    "search_agent = Worker(\n",
    "    role=\"Search Agent\",\n",
    "    instructions=\"\"\"\n",
    "    Fetch actual data from real online sources.\n",
    "    Do not provide placeholder URLs. Only provide genuine, relevant links from your searches.\n",
    "    \"\"\",\n",
    "    actions=[GoogleSerpAPISearch]\n",
    ")\n",
    "\n",
    "layout_agent = Worker(\n",
    "    role=\"Course Layout Agent\",\n",
    "    instructions=\"Extract or design the course layout (modules, chapters, or topics).\",\n",
    "    actions=[GoogleSerpAPISearch]\n",
    ")\n",
    "\n",
    "planner_agent = Worker(\n",
    "    role=\"Planner Agent\",\n",
    "    instructions=\"Develop a weekly plan based on the course layout and required effort.\",\n",
    "    actions=[GoogleSerpAPISearch]\n",
    ")\n",
    "\n",
    "curriculum_agent = Worker(\n",
    "    role=\"Curriculum Agent\",\n",
    "    instructions=(\n",
    "        \"\"\"\n",
    "        Provide a comprehensive curriculum:\n",
    "        1. Course Name\n",
    "        2. Intro and overview\n",
    "        3. Course Layout\n",
    "        4. Weekly plan\n",
    "        5. Project Ideas\n",
    "        \"\"\"\n",
    "    )\n",
    ")"
   ]
  },
  {
   "cell_type": "code",
   "execution_count": null,
   "metadata": {},
   "outputs": [],
   "source": [
    "# Create the admin agent\n",
    "admin = Admin(\n",
    "    llm=llm,\n",
    "    planner=TaskPlanner(\n",
    "        autonomous=False,\n",
    "        human_intervene=False\n",
    "    ),\n",
    "    memory=Memory(),\n",
    "    verbose=True\n",
    ")\n",
    "\n",
    "# Assign worker agents to the admin\n",
    "admin.assign_workers([\n",
    "    search_agent,\n",
    "    layout_agent,\n",
    "    planner_agent,\n",
    "    curriculum_agent\n",
    "])\n",
    "\n",
    "# Run the system\n",
    "response = admin.run(\n",
    "    query=\"Build a curriculum on Advanced Python for Data Science\",\n",
    "    description=\"Search for resources, summarize, layout the course, plan weekly, and format output.\"\n",
    ")"
   ]
  },
  {
   "cell_type": "code",
   "execution_count": 6,
   "metadata": {},
   "outputs": [
    {
     "data": {
      "text/markdown": [
       "# Advanced Python for Data Science\n",
       "\n",
       "## Introduction\n",
       "\n",
       "This course provides a comprehensive introduction to advanced Python programming techniques for data science. It covers essential libraries like NumPy, Pandas, Matplotlib, Seaborn, and Scikit-learn, along with an introduction to deep learning using TensorFlow/Keras or PyTorch. The course is designed for students with some prior programming experience who want to enhance their data science skills.\n",
       "\n",
       "## Overview\n",
       "\n",
       "The course is structured into four modules:\n",
       "\n",
       "1.  **NumPy/Pandas Fundamentals**\n",
       "2.  **Data Visualization with Matplotlib and Seaborn**\n",
       "3.  **Machine Learning with Scikit-learn**\n",
       "4.  **Deep Learning with TensorFlow/Keras or PyTorch**\n",
       "\n",
       "Each module includes several chapters covering specific topics and practical exercises. The course culminates in several projects that allow students to apply their knowledge to real-world problems.\n",
       "\n",
       "\n",
       "## Course Layout\n",
       "\n",
       "### Module 1: NumPy/Pandas Fundamentals\n",
       "\n",
       "*   **Chapter 1: NumPy Arrays and Operations:** Introduction to NumPy arrays, array manipulation, broadcasting, and vectorized operations.\n",
       "*   **Chapter 2: Pandas DataFrames and Series:** Introduction to Pandas DataFrames and Series, data manipulation, cleaning, and transformation.\n",
       "*   **Chapter 3: Data Wrangling with Pandas:** Advanced data manipulation techniques, merging, joining, and reshaping data.\n",
       "\n",
       "\n",
       "### Module 2: Data Visualization with Matplotlib and Seaborn\n",
       "\n",
       "*   **Chapter 1: Creating Static Plots:** Introduction to Matplotlib, creating various types of plots (line, bar, scatter, etc.).\n",
       "*   **Chapter 2: Customizing Plots:** Advanced plot customization, adding labels, titles, legends, and annotations.\n",
       "*   **Chapter 3: Seaborn for Statistical Visualization:** Introduction to Seaborn, creating statistically informative plots.\n",
       "\n",
       "\n",
       "### Module 3: Machine Learning with Scikit-learn\n",
       "\n",
       "*   **Chapter 1: Regression Models:** Linear Regression, Polynomial Regression, Ridge and Lasso Regression.\n",
       "*   **Chapter 2: Classification Models:** Logistic Regression, Support Vector Machines, Decision Trees, Random Forests.\n",
       "*   **Chapter 3: Model Evaluation and Selection:** Cross-validation, hyperparameter tuning, model selection techniques.\n",
       "\n",
       "\n",
       "### Module 4: Deep Learning with TensorFlow/Keras or PyTorch\n",
       "\n",
       "*   **Chapter 1: Introduction to Neural Networks:** Basic concepts of neural networks, perceptrons, activation functions.\n",
       "*   **Chapter 2: Building Neural Networks with Keras/PyTorch:** Hands-on experience building and training neural networks using Keras or PyTorch.\n",
       "*   **Chapter 3: Convolutional Neural Networks (CNNs):** Introduction to CNNs, applications in image recognition and processing.\n",
       "\n",
       "\n",
       "## Weekly Plan\n",
       "\n",
       "| Week | Topics                                                                     | Time (hours) |\n",
       "|------|-----------------------------------------------------------------------------|---------------|\n",
       "| 1    | NumPy Arrays and Operations, Pandas DataFrames and Series                   | 10            |\n",
       "| 2    | Data Wrangling with Pandas, Creating Static Plots                           | 10            |\n",
       "| 3    | Customizing Plots, Seaborn for Statistical Visualization                   | 10            |\n",
       "| 4    | Regression Models, Classification Models                                   | 10            |\n",
       "| 5    | Model Evaluation and Selection, Introduction to Neural Networks, Building Neural Networks with Keras/PyTorch | 10            |\n",
       "\n",
       "\n",
       "## Project Ideas\n",
       "\n",
       "*   **Customer Churn Prediction:** Build a model to predict customer churn using a dataset of customer information and behavior.\n",
       "*   **Image Classification:** Build a CNN to classify images from a publicly available dataset (e.g., CIFAR-10, MNIST).\n",
       "*   **Sales Forecasting:** Build a time series model to forecast future sales based on historical sales data.\n",
       "\n"
      ],
      "text/plain": [
       "<IPython.core.display.Markdown object>"
      ]
     },
     "metadata": {},
     "output_type": "display_data"
    }
   ],
   "source": [
    "display(Markdown(response))"
   ]
  },
  {
   "cell_type": "code",
   "execution_count": null,
   "metadata": {},
   "outputs": [],
   "source": []
  }
 ],
 "metadata": {
  "kernelspec": {
   "display_name": "Python 3",
   "language": "python",
   "name": "python3"
  },
  "language_info": {
   "codemirror_mode": {
    "name": "ipython",
    "version": 3
   },
   "file_extension": ".py",
   "mimetype": "text/x-python",
   "name": "python",
   "nbconvert_exporter": "python",
   "pygments_lexer": "ipython3",
   "version": "3.11.2"
  }
 },
 "nbformat": 4,
 "nbformat_minor": 2
}
